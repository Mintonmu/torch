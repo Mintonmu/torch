{
 "metadata": {
  "language_info": {
   "codemirror_mode": {
    "name": "ipython",
    "version": 3
   },
   "file_extension": ".py",
   "mimetype": "text/x-python",
   "name": "python",
   "nbconvert_exporter": "python",
   "pygments_lexer": "ipython3",
   "version": "3.7.0-final"
  },
  "orig_nbformat": 2,
  "kernelspec": {
   "name": "python3",
   "language": "python",
   "display_name": "Python 3"
  }
 },
 "nbformat": 4,
 "nbformat_minor": 2,
 "cells": [
  {
   "cell_type": "code",
   "execution_count": 1,
   "metadata": {},
   "outputs": [],
   "source": [
    "import torch\n",
    "from torchvision import datasets\n",
    "from torch.nn import functional as F\n",
    "from torch import nn\n",
    "from tqdm import tqdm\n",
    "from torchvision import transforms\n",
    "from torch import optim\n",
    "from torch.autograd import Variable"
   ]
  },
  {
   "cell_type": "code",
   "execution_count": 2,
   "metadata": {},
   "outputs": [],
   "source": [
    "data_path = \"F://datasets//\"\n",
    "is_download = True\n",
    "hidden_size = 128\n",
    "out_dim = 10\n",
    "epoches = 10\n",
    "batch_size = 128\n",
    "times_step = 28\n",
    "input_size = 28\n",
    "lr = 0.001\n",
    "train_data = datasets.MNIST(data_path, download=is_download, train=True, transform=transforms.ToTensor())\n",
    "test_data = datasets.MNIST(data_path, download=is_download, train=False, transform=transforms.ToTensor())\n",
    "train_dataloader = torch.utils.data.DataLoader(train_data, batch_size=batch_size, shuffle=True, num_workers=1, drop_last=True)\n",
    "test_dataloader = torch.utils.data.DataLoader(test_data, batch_size=batch_size, num_workers=2)"
   ]
  },
  {
   "cell_type": "code",
   "execution_count": 3,
   "metadata": {},
   "outputs": [],
   "source": [
    "class RNN(nn.Module):\n",
    "    def __init__(self, input_dim, hidden_size, out_dim):\n",
    "        super(RNN, self).__init__()\n",
    "        self.rnn = nn.RNN(input_size=input_dim, hidden_size=hidden_size, num_layers=1, batch_first = True)\n",
    "        self.linear = nn.Linear(hidden_size, out_dim)\n",
    "    def forward(self, X):\n",
    "        out, status = self.rnn(X)\n",
    "        return self.linear(out[:, -1, :])"
   ]
  },
  {
   "cell_type": "code",
   "execution_count": 4,
   "metadata": {},
   "outputs": [],
   "source": [
    "\n",
    "device = \"cuda\" if torch.cuda.is_available() else \"cpu\"\n",
    "rnn = RNN(input_size, hidden_size, out_dim)\n",
    "rnn = rnn.to(device)\n",
    "critiction  = nn.CrossEntropyLoss()\n",
    "optimizer = optim.Adam(rnn.parameters(),lr=lr)"
   ]
  },
  {
   "cell_type": "code",
   "execution_count": 5,
   "metadata": {},
   "outputs": [
    {
     "output_type": "execute_result",
     "data": {
      "text/plain": [
       "RNN(\n",
       "  (rnn): RNN(28, 128, batch_first=True)\n",
       "  (linear): Linear(in_features=128, out_features=10, bias=True)\n",
       ")"
      ]
     },
     "metadata": {},
     "execution_count": 5
    }
   ],
   "source": [
    "rnn"
   ]
  },
  {
   "cell_type": "code",
   "execution_count": 6,
   "metadata": {},
   "outputs": [],
   "source": [
    "from matplotlib.pyplot import *"
   ]
  },
  {
   "cell_type": "code",
   "execution_count": 7,
   "metadata": {},
   "outputs": [
    {
     "output_type": "stream",
     "name": "stderr",
     "text": [
      "468it [00:05, 86.55it/s] \n",
      "0it [00:00, ?it/s]0.8549535312713721\n",
      "468it [00:04, 105.38it/s]\n",
      "0it [00:00, ?it/s]0.424343056531034\n",
      "468it [00:04, 105.36it/s]\n",
      "0it [00:00, ?it/s]0.31463062276060766\n",
      "468it [00:04, 105.47it/s]\n",
      "0it [00:00, ?it/s]0.25578341613977384\n",
      "468it [00:04, 102.78it/s]\n",
      "0it [00:00, ?it/s]0.2163358453151762\n",
      "468it [00:04, 103.11it/s]\n",
      "0it [00:00, ?it/s]0.1846214095210163\n",
      "468it [00:04, 102.91it/s]\n",
      "0it [00:00, ?it/s]0.16734888401423764\n",
      "468it [00:04, 104.00it/s]\n",
      "0it [00:00, ?it/s]0.15276528487348148\n",
      "468it [00:04, 103.30it/s]\n",
      "0it [00:00, ?it/s]0.13754318615931094\n",
      "468it [00:04, 101.04it/s]0.13254678276821208\n",
      "\n"
     ]
    }
   ],
   "source": [
    "for epoch in range(epoches):\n",
    "    sum = 0\n",
    "    i = 0\n",
    "    for ii, (imgs, labels) in  tqdm(enumerate(train_dataloader)):\n",
    "        rnn.train()\n",
    "        imgs = Variable(imgs).squeeze(1).to(device)\n",
    "        \n",
    "        labels = Variable(labels).to(device)\n",
    "        out = rnn(imgs)\n",
    "        \n",
    "        loss = critiction(out, labels)\n",
    "        optimizer.zero_grad()\n",
    "        loss.backward()\n",
    "        optimizer.step()\n",
    "        sum+=loss.item()\n",
    "        i+=1\n",
    "\n",
    "    print(sum/i)"
   ]
  },
  {
   "cell_type": "code",
   "execution_count": null,
   "metadata": {},
   "outputs": [],
   "source": []
  },
  {
   "cell_type": "code",
   "execution_count": null,
   "metadata": {},
   "outputs": [],
   "source": []
  }
 ]
}